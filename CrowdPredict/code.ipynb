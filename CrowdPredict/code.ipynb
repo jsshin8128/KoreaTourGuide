{
 "cells": [
  {
   "cell_type": "code",
   "execution_count": 1,
   "metadata": {},
   "outputs": [],
   "source": [
    "import pandas as pd\n",
    "import numpy as np\n",
    "import matplotlib.pyplot as plt"
   ]
  },
  {
   "cell_type": "code",
   "execution_count": 2,
   "metadata": {},
   "outputs": [
    {
     "name": "stderr",
     "output_type": "stream",
     "text": [
      "C:\\Users\\01062\\AppData\\Local\\Temp/ipykernel_14388/2470930722.py:4: SettingWithCopyWarning: \n",
      "A value is trying to be set on a copy of a slice from a DataFrame.\n",
      "Try using .loc[row_indexer,col_indexer] = value instead\n",
      "\n",
      "See the caveats in the documentation: https://pandas.pydata.org/pandas-docs/stable/user_guide/indexing.html#returning-a-view-versus-a-copy\n",
      "  df_palace2022['경복궁'] =  df_palace2022['경복궁(유료)']+df_palace2022['경복궁(무료)']\n",
      "C:\\Users\\01062\\AppData\\Local\\Temp/ipykernel_14388/2470930722.py:5: SettingWithCopyWarning: \n",
      "A value is trying to be set on a copy of a slice from a DataFrame.\n",
      "Try using .loc[row_indexer,col_indexer] = value instead\n",
      "\n",
      "See the caveats in the documentation: https://pandas.pydata.org/pandas-docs/stable/user_guide/indexing.html#returning-a-view-versus-a-copy\n",
      "  df_palace2022['덕수궁'] =  df_palace2022['덕수궁(유료)']+df_palace2022['덕수궁(무료)']\n",
      "C:\\Users\\01062\\AppData\\Local\\Temp/ipykernel_14388/2470930722.py:6: SettingWithCopyWarning: \n",
      "A value is trying to be set on a copy of a slice from a DataFrame.\n",
      "Try using .loc[row_indexer,col_indexer] = value instead\n",
      "\n",
      "See the caveats in the documentation: https://pandas.pydata.org/pandas-docs/stable/user_guide/indexing.html#returning-a-view-versus-a-copy\n",
      "  df_palace2022['창경궁'] =  df_palace2022['창경궁(유료)']+df_palace2022['창경궁(무료)']\n",
      "C:\\Users\\01062\\AppData\\Local\\Temp/ipykernel_14388/2470930722.py:7: SettingWithCopyWarning: \n",
      "A value is trying to be set on a copy of a slice from a DataFrame.\n",
      "Try using .loc[row_indexer,col_indexer] = value instead\n",
      "\n",
      "See the caveats in the documentation: https://pandas.pydata.org/pandas-docs/stable/user_guide/indexing.html#returning-a-view-versus-a-copy\n",
      "  df_palace2022['창덕궁'] =  df_palace2022['창덕궁(유료)']+df_palace2022['창덕궁(무료)']\n"
     ]
    }
   ],
   "source": [
    "palace2022 = pd.read_csv(\"./4대궁2022.csv\", encoding='cp949')\n",
    "df_palace2022 = palace2022[['일자', '경복궁(유료)', '경복궁(무료)', '덕수궁(유료)', '덕수궁(무료)', '창경궁(유료)', '창경궁(무료)', '창덕궁(유료)', '창덕궁(무료)']]\n",
    "\n",
    "df_palace2022['경복궁'] =  df_palace2022['경복궁(유료)']+df_palace2022['경복궁(무료)']\n",
    "df_palace2022['덕수궁'] =  df_palace2022['덕수궁(유료)']+df_palace2022['덕수궁(무료)']\n",
    "df_palace2022['창경궁'] =  df_palace2022['창경궁(유료)']+df_palace2022['창경궁(무료)']\n",
    "df_palace2022['창덕궁'] =  df_palace2022['창덕궁(유료)']+df_palace2022['창덕궁(무료)']\n",
    "\n",
    "\n",
    "df_palace2022[['경복궁']].to_csv('경복궁2022.csv', index=True)\n",
    "df_palace2022[['덕수궁']].to_csv('덕수궁2022.csv', index=True)\n",
    "df_palace2022[['창경궁']].to_csv('창경궁2022.csv', index=True)\n",
    "df_palace2022[['창덕궁']].to_csv('창덕궁2022.csv', index=True)\n"
   ]
  },
  {
   "cell_type": "code",
   "execution_count": 5,
   "metadata": {},
   "outputs": [
    {
     "name": "stderr",
     "output_type": "stream",
     "text": [
      "C:\\Users\\01062\\AppData\\Local\\Temp/ipykernel_14388/12243983.py:4: SettingWithCopyWarning: \n",
      "A value is trying to be set on a copy of a slice from a DataFrame.\n",
      "Try using .loc[row_indexer,col_indexer] = value instead\n",
      "\n",
      "See the caveats in the documentation: https://pandas.pydata.org/pandas-docs/stable/user_guide/indexing.html#returning-a-view-versus-a-copy\n",
      "  df_palace2023['경복궁'] =  df_palace2023['경복궁(유료)']+df_palace2023['경복궁(무료)']\n",
      "C:\\Users\\01062\\AppData\\Local\\Temp/ipykernel_14388/12243983.py:5: SettingWithCopyWarning: \n",
      "A value is trying to be set on a copy of a slice from a DataFrame.\n",
      "Try using .loc[row_indexer,col_indexer] = value instead\n",
      "\n",
      "See the caveats in the documentation: https://pandas.pydata.org/pandas-docs/stable/user_guide/indexing.html#returning-a-view-versus-a-copy\n",
      "  df_palace2023['덕수궁'] =  df_palace2023['덕수궁(유료)']+df_palace2023['덕수궁(무료)']\n",
      "C:\\Users\\01062\\AppData\\Local\\Temp/ipykernel_14388/12243983.py:6: SettingWithCopyWarning: \n",
      "A value is trying to be set on a copy of a slice from a DataFrame.\n",
      "Try using .loc[row_indexer,col_indexer] = value instead\n",
      "\n",
      "See the caveats in the documentation: https://pandas.pydata.org/pandas-docs/stable/user_guide/indexing.html#returning-a-view-versus-a-copy\n",
      "  df_palace2023['창경궁'] =  df_palace2023['창경궁(유료)']+df_palace2023['창경궁(무료)']\n",
      "C:\\Users\\01062\\AppData\\Local\\Temp/ipykernel_14388/12243983.py:7: SettingWithCopyWarning: \n",
      "A value is trying to be set on a copy of a slice from a DataFrame.\n",
      "Try using .loc[row_indexer,col_indexer] = value instead\n",
      "\n",
      "See the caveats in the documentation: https://pandas.pydata.org/pandas-docs/stable/user_guide/indexing.html#returning-a-view-versus-a-copy\n",
      "  df_palace2023['창덕궁'] =  df_palace2023['창덕궁(유료)']+df_palace2023['창덕궁(무료)']\n"
     ]
    }
   ],
   "source": [
    "palace2023 = pd.read_csv(\"./4대궁2023.csv\", encoding='cp949')\n",
    "df_palace2023 = palace2023[['일자', '경복궁(유료)', '경복궁(무료)', '덕수궁(유료)', '덕수궁(무료)', '창경궁(유료)', '창경궁(무료)', '창덕궁(유료)', '창덕궁(무료)']]\n",
    "\n",
    "df_palace2023['경복궁'] =  df_palace2023['경복궁(유료)']+df_palace2023['경복궁(무료)']\n",
    "df_palace2023['덕수궁'] =  df_palace2023['덕수궁(유료)']+df_palace2023['덕수궁(무료)']\n",
    "df_palace2023['창경궁'] =  df_palace2023['창경궁(유료)']+df_palace2023['창경궁(무료)']\n",
    "df_palace2023['창덕궁'] =  df_palace2023['창덕궁(유료)']+df_palace2023['창덕궁(무료)']\n",
    "\n",
    "df_palace2022[['경복궁']].to_csv('경복궁2023.csv', index=True)\n",
    "df_palace2022[['덕수궁']].to_csv('덕수궁2023.csv', index=True)\n",
    "df_palace2022[['창경궁']].to_csv('창경궁2023.csv', index=True)\n",
    "df_palace2022[['창덕궁']].to_csv('창덕궁2023.csv', index=True)\n"
   ]
  },
  {
   "cell_type": "code",
   "execution_count": 7,
   "metadata": {},
   "outputs": [
    {
     "ename": "ImportError",
     "evalue": "Pandas requires version '3.1.0' or newer of 'openpyxl' (version '3.0.10' currently installed).",
     "output_type": "error",
     "traceback": [
      "\u001b[1;31m---------------------------------------------------------------------------\u001b[0m",
      "\u001b[1;31mImportError\u001b[0m                               Traceback (most recent call last)",
      "\u001b[1;32m~\\AppData\\Local\\Temp/ipykernel_14388/3091094564.py\u001b[0m in \u001b[0;36m<module>\u001b[1;34m\u001b[0m\n\u001b[1;32m----> 1\u001b[1;33m \u001b[0mseoul_park_xls\u001b[0m \u001b[1;33m=\u001b[0m \u001b[0mpd\u001b[0m\u001b[1;33m.\u001b[0m\u001b[0mExcelFile\u001b[0m\u001b[1;33m(\u001b[0m\u001b[1;34m'./서울대공원2023.xlsx'\u001b[0m\u001b[1;33m)\u001b[0m\u001b[1;33m\u001b[0m\u001b[1;33m\u001b[0m\u001b[0m\n\u001b[0m\u001b[0;32m      2\u001b[0m \u001b[0mmonth\u001b[0m \u001b[1;33m=\u001b[0m \u001b[1;33m[\u001b[0m\u001b[1;34m'1월'\u001b[0m\u001b[1;33m,\u001b[0m \u001b[1;34m'2월 '\u001b[0m\u001b[1;33m,\u001b[0m \u001b[1;34m'3월 '\u001b[0m\u001b[1;33m,\u001b[0m \u001b[1;34m'4월 '\u001b[0m\u001b[1;33m,\u001b[0m \u001b[1;34m'5월 '\u001b[0m\u001b[1;33m,\u001b[0m \u001b[1;34m'6월 '\u001b[0m\u001b[1;33m,\u001b[0m \u001b[1;34m'7월'\u001b[0m\u001b[1;33m,\u001b[0m \u001b[1;34m'8월'\u001b[0m\u001b[1;33m,\u001b[0m \u001b[1;34m'9월'\u001b[0m\u001b[1;33m,\u001b[0m \u001b[1;34m'10월'\u001b[0m\u001b[1;33m,\u001b[0m \u001b[1;34m'11월'\u001b[0m\u001b[1;33m,\u001b[0m \u001b[1;34m'12월'\u001b[0m\u001b[1;33m]\u001b[0m\u001b[1;33m\u001b[0m\u001b[1;33m\u001b[0m\u001b[0m\n\u001b[0;32m      3\u001b[0m \u001b[1;33m\u001b[0m\u001b[0m\n\u001b[0;32m      4\u001b[0m \u001b[1;31m# 각 시트에서 특정 열만 가져와서 리스트에 저장\u001b[0m\u001b[1;33m\u001b[0m\u001b[1;33m\u001b[0m\u001b[1;33m\u001b[0m\u001b[0m\n\u001b[0;32m      5\u001b[0m \u001b[0mdfs\u001b[0m \u001b[1;33m=\u001b[0m \u001b[1;33m[\u001b[0m\u001b[1;33m]\u001b[0m\u001b[1;33m\u001b[0m\u001b[1;33m\u001b[0m\u001b[0m\n",
      "\u001b[1;32mc:\\Users\\01062\\AppData\\Local\\Programs\\Python\\Python39\\lib\\site-packages\\pandas\\io\\excel\\_base.py\u001b[0m in \u001b[0;36m__init__\u001b[1;34m(self, path_or_buffer, engine, storage_options, engine_kwargs)\u001b[0m\n\u001b[0;32m   1565\u001b[0m         \u001b[0mself\u001b[0m\u001b[1;33m.\u001b[0m\u001b[0mstorage_options\u001b[0m \u001b[1;33m=\u001b[0m \u001b[0mstorage_options\u001b[0m\u001b[1;33m\u001b[0m\u001b[1;33m\u001b[0m\u001b[0m\n\u001b[0;32m   1566\u001b[0m \u001b[1;33m\u001b[0m\u001b[0m\n\u001b[1;32m-> 1567\u001b[1;33m         self._reader = self._engines[engine](\n\u001b[0m\u001b[0;32m   1568\u001b[0m             \u001b[0mself\u001b[0m\u001b[1;33m.\u001b[0m\u001b[0m_io\u001b[0m\u001b[1;33m,\u001b[0m\u001b[1;33m\u001b[0m\u001b[1;33m\u001b[0m\u001b[0m\n\u001b[0;32m   1569\u001b[0m             \u001b[0mstorage_options\u001b[0m\u001b[1;33m=\u001b[0m\u001b[0mstorage_options\u001b[0m\u001b[1;33m,\u001b[0m\u001b[1;33m\u001b[0m\u001b[1;33m\u001b[0m\u001b[0m\n",
      "\u001b[1;32mc:\\Users\\01062\\AppData\\Local\\Programs\\Python\\Python39\\lib\\site-packages\\pandas\\io\\excel\\_openpyxl.py\u001b[0m in \u001b[0;36m__init__\u001b[1;34m(self, filepath_or_buffer, storage_options, engine_kwargs)\u001b[0m\n\u001b[0;32m    550\u001b[0m             \u001b[0mArbitrary\u001b[0m \u001b[0mkeyword\u001b[0m \u001b[0marguments\u001b[0m \u001b[0mpassed\u001b[0m \u001b[0mto\u001b[0m \u001b[0mexcel\u001b[0m \u001b[0mengine\u001b[0m\u001b[1;33m.\u001b[0m\u001b[1;33m\u001b[0m\u001b[1;33m\u001b[0m\u001b[0m\n\u001b[0;32m    551\u001b[0m         \"\"\"\n\u001b[1;32m--> 552\u001b[1;33m         \u001b[0mimport_optional_dependency\u001b[0m\u001b[1;33m(\u001b[0m\u001b[1;34m\"openpyxl\"\u001b[0m\u001b[1;33m)\u001b[0m\u001b[1;33m\u001b[0m\u001b[1;33m\u001b[0m\u001b[0m\n\u001b[0m\u001b[0;32m    553\u001b[0m         super().__init__(\n\u001b[0;32m    554\u001b[0m             \u001b[0mfilepath_or_buffer\u001b[0m\u001b[1;33m,\u001b[0m\u001b[1;33m\u001b[0m\u001b[1;33m\u001b[0m\u001b[0m\n",
      "\u001b[1;32mc:\\Users\\01062\\AppData\\Local\\Programs\\Python\\Python39\\lib\\site-packages\\pandas\\compat\\_optional.py\u001b[0m in \u001b[0;36mimport_optional_dependency\u001b[1;34m(name, extra, errors, min_version)\u001b[0m\n\u001b[0;32m    162\u001b[0m                 \u001b[1;32mreturn\u001b[0m \u001b[1;32mNone\u001b[0m\u001b[1;33m\u001b[0m\u001b[1;33m\u001b[0m\u001b[0m\n\u001b[0;32m    163\u001b[0m             \u001b[1;32melif\u001b[0m \u001b[0merrors\u001b[0m \u001b[1;33m==\u001b[0m \u001b[1;34m\"raise\"\u001b[0m\u001b[1;33m:\u001b[0m\u001b[1;33m\u001b[0m\u001b[1;33m\u001b[0m\u001b[0m\n\u001b[1;32m--> 164\u001b[1;33m                 \u001b[1;32mraise\u001b[0m \u001b[0mImportError\u001b[0m\u001b[1;33m(\u001b[0m\u001b[0mmsg\u001b[0m\u001b[1;33m)\u001b[0m\u001b[1;33m\u001b[0m\u001b[1;33m\u001b[0m\u001b[0m\n\u001b[0m\u001b[0;32m    165\u001b[0m             \u001b[1;32melse\u001b[0m\u001b[1;33m:\u001b[0m\u001b[1;33m\u001b[0m\u001b[1;33m\u001b[0m\u001b[0m\n\u001b[0;32m    166\u001b[0m                 \u001b[1;32mreturn\u001b[0m \u001b[1;32mNone\u001b[0m\u001b[1;33m\u001b[0m\u001b[1;33m\u001b[0m\u001b[0m\n",
      "\u001b[1;31mImportError\u001b[0m: Pandas requires version '3.1.0' or newer of 'openpyxl' (version '3.0.10' currently installed)."
     ]
    }
   ],
   "source": [
    "seoul_park_xls = pd.ExcelFile('./서울대공원2023.xlsx')\n",
    "month = ['1월', '2월 ', '3월 ', '4월 ', '5월 ', '6월 ', '7월', '8월', '9월', '10월', '11월', '12월']\n",
    "\n",
    "# 각 시트에서 특정 열만 가져와서 리스트에 저장\n",
    "dfs = []  \n",
    "for sheet in month:\n",
    "  seoul_park = pd.read_excel(seoul_park_xls, sheet_name=sheet, header=4)\n",
    "  seoul_park.drop(0, inplace=True)\n",
    "  df = seoul_park[['날짜', '일합계']]  # 원하는 열만 가져오기\n",
    "  dfs.append(df)\n",
    "\n",
    "# 모든 시트의 특정 열을 세로로 연결\n",
    "merged_df = pd.concat(dfs, ignore_index=True)\n",
    "merged_df\n",
    "# 새로운 엑셀 파일로 저장 (기존 파일 수정하려면 다른 방식 필요)\n",
    "merged_df.to_csv(\"merged_seoul_park_2023.csv\", index=False)\n"
   ]
  },
  {
   "cell_type": "code",
   "execution_count": 8,
   "metadata": {},
   "outputs": [
    {
     "ename": "ImportError",
     "evalue": "Pandas requires version '3.1.0' or newer of 'openpyxl' (version '3.0.10' currently installed).",
     "output_type": "error",
     "traceback": [
      "\u001b[1;31m---------------------------------------------------------------------------\u001b[0m",
      "\u001b[1;31mImportError\u001b[0m                               Traceback (most recent call last)",
      "\u001b[1;32m~\\AppData\\Local\\Temp/ipykernel_14388/477967834.py\u001b[0m in \u001b[0;36m<module>\u001b[1;34m\u001b[0m\n\u001b[1;32m----> 1\u001b[1;33m \u001b[0mseoul_park_xls\u001b[0m \u001b[1;33m=\u001b[0m \u001b[0mpd\u001b[0m\u001b[1;33m.\u001b[0m\u001b[0mExcelFile\u001b[0m\u001b[1;33m(\u001b[0m\u001b[1;34m'./서울대공원2024.xlsx'\u001b[0m\u001b[1;33m)\u001b[0m\u001b[1;33m\u001b[0m\u001b[1;33m\u001b[0m\u001b[0m\n\u001b[0m\u001b[0;32m      2\u001b[0m \u001b[0mmonth\u001b[0m \u001b[1;33m=\u001b[0m \u001b[1;33m[\u001b[0m\u001b[1;34m'1월'\u001b[0m\u001b[1;33m,\u001b[0m \u001b[1;34m'2월 '\u001b[0m\u001b[1;33m,\u001b[0m \u001b[1;34m'3월 '\u001b[0m\u001b[1;33m,\u001b[0m \u001b[1;34m'4월 '\u001b[0m\u001b[1;33m,\u001b[0m \u001b[1;34m'5월'\u001b[0m\u001b[1;33m,\u001b[0m \u001b[1;34m'6월'\u001b[0m\u001b[1;33m,\u001b[0m \u001b[1;34m'7월'\u001b[0m\u001b[1;33m,\u001b[0m \u001b[1;34m'8월'\u001b[0m\u001b[1;33m,\u001b[0m \u001b[1;34m'9월'\u001b[0m\u001b[1;33m,\u001b[0m \u001b[1;34m'10월'\u001b[0m\u001b[1;33m,\u001b[0m \u001b[1;34m'11월'\u001b[0m\u001b[1;33m,\u001b[0m \u001b[1;34m'12월'\u001b[0m\u001b[1;33m]\u001b[0m\u001b[1;33m\u001b[0m\u001b[1;33m\u001b[0m\u001b[0m\n\u001b[0;32m      3\u001b[0m \u001b[1;33m\u001b[0m\u001b[0m\n\u001b[0;32m      4\u001b[0m \u001b[1;31m# 각 시트에서 특정 열만 가져와서 리스트에 저장\u001b[0m\u001b[1;33m\u001b[0m\u001b[1;33m\u001b[0m\u001b[1;33m\u001b[0m\u001b[0m\n\u001b[0;32m      5\u001b[0m \u001b[0mdfs\u001b[0m \u001b[1;33m=\u001b[0m \u001b[1;33m[\u001b[0m\u001b[1;33m]\u001b[0m\u001b[1;33m\u001b[0m\u001b[1;33m\u001b[0m\u001b[0m\n",
      "\u001b[1;32mc:\\Users\\01062\\AppData\\Local\\Programs\\Python\\Python39\\lib\\site-packages\\pandas\\io\\excel\\_base.py\u001b[0m in \u001b[0;36m__init__\u001b[1;34m(self, path_or_buffer, engine, storage_options, engine_kwargs)\u001b[0m\n\u001b[0;32m   1565\u001b[0m         \u001b[0mself\u001b[0m\u001b[1;33m.\u001b[0m\u001b[0mstorage_options\u001b[0m \u001b[1;33m=\u001b[0m \u001b[0mstorage_options\u001b[0m\u001b[1;33m\u001b[0m\u001b[1;33m\u001b[0m\u001b[0m\n\u001b[0;32m   1566\u001b[0m \u001b[1;33m\u001b[0m\u001b[0m\n\u001b[1;32m-> 1567\u001b[1;33m         self._reader = self._engines[engine](\n\u001b[0m\u001b[0;32m   1568\u001b[0m             \u001b[0mself\u001b[0m\u001b[1;33m.\u001b[0m\u001b[0m_io\u001b[0m\u001b[1;33m,\u001b[0m\u001b[1;33m\u001b[0m\u001b[1;33m\u001b[0m\u001b[0m\n\u001b[0;32m   1569\u001b[0m             \u001b[0mstorage_options\u001b[0m\u001b[1;33m=\u001b[0m\u001b[0mstorage_options\u001b[0m\u001b[1;33m,\u001b[0m\u001b[1;33m\u001b[0m\u001b[1;33m\u001b[0m\u001b[0m\n",
      "\u001b[1;32mc:\\Users\\01062\\AppData\\Local\\Programs\\Python\\Python39\\lib\\site-packages\\pandas\\io\\excel\\_openpyxl.py\u001b[0m in \u001b[0;36m__init__\u001b[1;34m(self, filepath_or_buffer, storage_options, engine_kwargs)\u001b[0m\n\u001b[0;32m    550\u001b[0m             \u001b[0mArbitrary\u001b[0m \u001b[0mkeyword\u001b[0m \u001b[0marguments\u001b[0m \u001b[0mpassed\u001b[0m \u001b[0mto\u001b[0m \u001b[0mexcel\u001b[0m \u001b[0mengine\u001b[0m\u001b[1;33m.\u001b[0m\u001b[1;33m\u001b[0m\u001b[1;33m\u001b[0m\u001b[0m\n\u001b[0;32m    551\u001b[0m         \"\"\"\n\u001b[1;32m--> 552\u001b[1;33m         \u001b[0mimport_optional_dependency\u001b[0m\u001b[1;33m(\u001b[0m\u001b[1;34m\"openpyxl\"\u001b[0m\u001b[1;33m)\u001b[0m\u001b[1;33m\u001b[0m\u001b[1;33m\u001b[0m\u001b[0m\n\u001b[0m\u001b[0;32m    553\u001b[0m         super().__init__(\n\u001b[0;32m    554\u001b[0m             \u001b[0mfilepath_or_buffer\u001b[0m\u001b[1;33m,\u001b[0m\u001b[1;33m\u001b[0m\u001b[1;33m\u001b[0m\u001b[0m\n",
      "\u001b[1;32mc:\\Users\\01062\\AppData\\Local\\Programs\\Python\\Python39\\lib\\site-packages\\pandas\\compat\\_optional.py\u001b[0m in \u001b[0;36mimport_optional_dependency\u001b[1;34m(name, extra, errors, min_version)\u001b[0m\n\u001b[0;32m    162\u001b[0m                 \u001b[1;32mreturn\u001b[0m \u001b[1;32mNone\u001b[0m\u001b[1;33m\u001b[0m\u001b[1;33m\u001b[0m\u001b[0m\n\u001b[0;32m    163\u001b[0m             \u001b[1;32melif\u001b[0m \u001b[0merrors\u001b[0m \u001b[1;33m==\u001b[0m \u001b[1;34m\"raise\"\u001b[0m\u001b[1;33m:\u001b[0m\u001b[1;33m\u001b[0m\u001b[1;33m\u001b[0m\u001b[0m\n\u001b[1;32m--> 164\u001b[1;33m                 \u001b[1;32mraise\u001b[0m \u001b[0mImportError\u001b[0m\u001b[1;33m(\u001b[0m\u001b[0mmsg\u001b[0m\u001b[1;33m)\u001b[0m\u001b[1;33m\u001b[0m\u001b[1;33m\u001b[0m\u001b[0m\n\u001b[0m\u001b[0;32m    165\u001b[0m             \u001b[1;32melse\u001b[0m\u001b[1;33m:\u001b[0m\u001b[1;33m\u001b[0m\u001b[1;33m\u001b[0m\u001b[0m\n\u001b[0;32m    166\u001b[0m                 \u001b[1;32mreturn\u001b[0m \u001b[1;32mNone\u001b[0m\u001b[1;33m\u001b[0m\u001b[1;33m\u001b[0m\u001b[0m\n",
      "\u001b[1;31mImportError\u001b[0m: Pandas requires version '3.1.0' or newer of 'openpyxl' (version '3.0.10' currently installed)."
     ]
    }
   ],
   "source": [
    "seoul_park_xls = pd.ExcelFile('./서울대공원2024.xlsx')\n",
    "month = ['1월', '2월 ', '3월 ', '4월 ', '5월', '6월', '7월', '8월', '9월', '10월', '11월', '12월']\n",
    "\n",
    "# 각 시트에서 특정 열만 가져와서 리스트에 저장\n",
    "dfs = []  \n",
    "for sheet in month:\n",
    "  seoul_park = pd.read_excel(seoul_park_xls, sheet_name=sheet, header=4)\n",
    "  seoul_park.drop(0, inplace=True)\n",
    "  df = seoul_park[['날짜', '일합계']]  # 원하는 열만 가져오기\n",
    "  dfs.append(df)\n",
    "\n",
    "# 모든 시트의 특정 열을 세로로 연결\n",
    "merged_df = pd.concat(dfs, ignore_index=True)\n",
    "merged_df\n",
    "# 새로운 엑셀 파일로 저장 (기존 파일 수정하려면 다른 방식 필요)\n",
    "merged_df.to_csv(\"merged_seoul_park_2024.csv\", index=False)\n"
   ]
  },
  {
   "cell_type": "code",
   "execution_count": null,
   "metadata": {},
   "outputs": [],
   "source": []
  }
 ],
 "metadata": {
  "kernelspec": {
   "display_name": "Python 3.9.6 64-bit",
   "language": "python",
   "name": "python3"
  },
  "language_info": {
   "codemirror_mode": {
    "name": "ipython",
    "version": 3
   },
   "file_extension": ".py",
   "mimetype": "text/x-python",
   "name": "python",
   "nbconvert_exporter": "python",
   "pygments_lexer": "ipython3",
   "version": "3.9.6"
  },
  "orig_nbformat": 4,
  "vscode": {
   "interpreter": {
    "hash": "a047e08c87d346450cbc9d1e0b6b2078b572b710726afb9a41456a0859ffd4fd"
   }
  }
 },
 "nbformat": 4,
 "nbformat_minor": 2
}
