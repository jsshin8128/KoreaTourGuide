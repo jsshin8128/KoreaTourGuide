{
 "cells": [
  {
   "cell_type": "code",
   "execution_count": 1,
   "metadata": {},
   "outputs": [],
   "source": [
    "import pandas as pd\n",
    "import numpy as np\n",
    "import matplotlib.pyplot as plt"
   ]
  },
  {
   "cell_type": "code",
   "execution_count": 2,
   "metadata": {},
   "outputs": [
    {
     "name": "stderr",
     "output_type": "stream",
     "text": [
      "C:\\Users\\01062\\AppData\\Local\\Temp/ipykernel_14388/2470930722.py:4: SettingWithCopyWarning: \n",
      "A value is trying to be set on a copy of a slice from a DataFrame.\n",
      "Try using .loc[row_indexer,col_indexer] = value instead\n",
      "\n",
      "See the caveats in the documentation: https://pandas.pydata.org/pandas-docs/stable/user_guide/indexing.html#returning-a-view-versus-a-copy\n",
      "  df_palace2022['경복궁'] =  df_palace2022['경복궁(유료)']+df_palace2022['경복궁(무료)']\n",
      "C:\\Users\\01062\\AppData\\Local\\Temp/ipykernel_14388/2470930722.py:5: SettingWithCopyWarning: \n",
      "A value is trying to be set on a copy of a slice from a DataFrame.\n",
      "Try using .loc[row_indexer,col_indexer] = value instead\n",
      "\n",
      "See the caveats in the documentation: https://pandas.pydata.org/pandas-docs/stable/user_guide/indexing.html#returning-a-view-versus-a-copy\n",
      "  df_palace2022['덕수궁'] =  df_palace2022['덕수궁(유료)']+df_palace2022['덕수궁(무료)']\n",
      "C:\\Users\\01062\\AppData\\Local\\Temp/ipykernel_14388/2470930722.py:6: SettingWithCopyWarning: \n",
      "A value is trying to be set on a copy of a slice from a DataFrame.\n",
      "Try using .loc[row_indexer,col_indexer] = value instead\n",
      "\n",
      "See the caveats in the documentation: https://pandas.pydata.org/pandas-docs/stable/user_guide/indexing.html#returning-a-view-versus-a-copy\n",
      "  df_palace2022['창경궁'] =  df_palace2022['창경궁(유료)']+df_palace2022['창경궁(무료)']\n",
      "C:\\Users\\01062\\AppData\\Local\\Temp/ipykernel_14388/2470930722.py:7: SettingWithCopyWarning: \n",
      "A value is trying to be set on a copy of a slice from a DataFrame.\n",
      "Try using .loc[row_indexer,col_indexer] = value instead\n",
      "\n",
      "See the caveats in the documentation: https://pandas.pydata.org/pandas-docs/stable/user_guide/indexing.html#returning-a-view-versus-a-copy\n",
      "  df_palace2022['창덕궁'] =  df_palace2022['창덕궁(유료)']+df_palace2022['창덕궁(무료)']\n"
     ]
    }
   ],
   "source": [
    "palace2022 = pd.read_csv(\"./4대궁2022.csv\", encoding='cp949')\n",
    "df_palace2022 = palace2022[['일자', '경복궁(유료)', '경복궁(무료)', '덕수궁(유료)', '덕수궁(무료)', '창경궁(유료)', '창경궁(무료)', '창덕궁(유료)', '창덕궁(무료)']]\n",
    "\n",
    "df_palace2022['경복궁'] =  df_palace2022['경복궁(유료)']+df_palace2022['경복궁(무료)']\n",
    "df_palace2022['덕수궁'] =  df_palace2022['덕수궁(유료)']+df_palace2022['덕수궁(무료)']\n",
    "df_palace2022['창경궁'] =  df_palace2022['창경궁(유료)']+df_palace2022['창경궁(무료)']\n",
    "df_palace2022['창덕궁'] =  df_palace2022['창덕궁(유료)']+df_palace2022['창덕궁(무료)']\n",
    "\n",
    "\n",
    "df_palace2022[['경복궁']].to_csv('경복궁2022.csv', index=True)\n",
    "df_palace2022[['덕수궁']].to_csv('덕수궁2022.csv', index=True)\n",
    "df_palace2022[['창경궁']].to_csv('창경궁2022.csv', index=True)\n",
    "df_palace2022[['창덕궁']].to_csv('창덕궁2022.csv', index=True)\n"
   ]
  },
  {
   "cell_type": "code",
   "execution_count": 5,
   "metadata": {},
   "outputs": [
    {
     "name": "stderr",
     "output_type": "stream",
     "text": [
      "C:\\Users\\01062\\AppData\\Local\\Temp/ipykernel_14388/12243983.py:4: SettingWithCopyWarning: \n",
      "A value is trying to be set on a copy of a slice from a DataFrame.\n",
      "Try using .loc[row_indexer,col_indexer] = value instead\n",
      "\n",
      "See the caveats in the documentation: https://pandas.pydata.org/pandas-docs/stable/user_guide/indexing.html#returning-a-view-versus-a-copy\n",
      "  df_palace2023['경복궁'] =  df_palace2023['경복궁(유료)']+df_palace2023['경복궁(무료)']\n",
      "C:\\Users\\01062\\AppData\\Local\\Temp/ipykernel_14388/12243983.py:5: SettingWithCopyWarning: \n",
      "A value is trying to be set on a copy of a slice from a DataFrame.\n",
      "Try using .loc[row_indexer,col_indexer] = value instead\n",
      "\n",
      "See the caveats in the documentation: https://pandas.pydata.org/pandas-docs/stable/user_guide/indexing.html#returning-a-view-versus-a-copy\n",
      "  df_palace2023['덕수궁'] =  df_palace2023['덕수궁(유료)']+df_palace2023['덕수궁(무료)']\n",
      "C:\\Users\\01062\\AppData\\Local\\Temp/ipykernel_14388/12243983.py:6: SettingWithCopyWarning: \n",
      "A value is trying to be set on a copy of a slice from a DataFrame.\n",
      "Try using .loc[row_indexer,col_indexer] = value instead\n",
      "\n",
      "See the caveats in the documentation: https://pandas.pydata.org/pandas-docs/stable/user_guide/indexing.html#returning-a-view-versus-a-copy\n",
      "  df_palace2023['창경궁'] =  df_palace2023['창경궁(유료)']+df_palace2023['창경궁(무료)']\n",
      "C:\\Users\\01062\\AppData\\Local\\Temp/ipykernel_14388/12243983.py:7: SettingWithCopyWarning: \n",
      "A value is trying to be set on a copy of a slice from a DataFrame.\n",
      "Try using .loc[row_indexer,col_indexer] = value instead\n",
      "\n",
      "See the caveats in the documentation: https://pandas.pydata.org/pandas-docs/stable/user_guide/indexing.html#returning-a-view-versus-a-copy\n",
      "  df_palace2023['창덕궁'] =  df_palace2023['창덕궁(유료)']+df_palace2023['창덕궁(무료)']\n"
     ]
    }
   ],
   "source": [
    "palace2023 = pd.read_csv(\"./4대궁2023.csv\", encoding='cp949')\n",
    "df_palace2023 = palace2023[['일자', '경복궁(유료)', '경복궁(무료)', '덕수궁(유료)', '덕수궁(무료)', '창경궁(유료)', '창경궁(무료)', '창덕궁(유료)', '창덕궁(무료)']]\n",
    "\n",
    "df_palace2023['경복궁'] =  df_palace2023['경복궁(유료)']+df_palace2023['경복궁(무료)']\n",
    "df_palace2023['덕수궁'] =  df_palace2023['덕수궁(유료)']+df_palace2023['덕수궁(무료)']\n",
    "df_palace2023['창경궁'] =  df_palace2023['창경궁(유료)']+df_palace2023['창경궁(무료)']\n",
    "df_palace2023['창덕궁'] =  df_palace2023['창덕궁(유료)']+df_palace2023['창덕궁(무료)']\n",
    "\n",
    "df_palace2022[['경복궁']].to_csv('경복궁2023.csv', index=True)\n",
    "df_palace2022[['덕수궁']].to_csv('덕수궁2023.csv', index=True)\n",
    "df_palace2022[['창경궁']].to_csv('창경궁2023.csv', index=True)\n",
    "df_palace2022[['창덕궁']].to_csv('창덕궁2023.csv', index=True)\n"
   ]
  },
   "source": [
    "seoul_park_xls = pd.ExcelFile('./서울대공원2023.xlsx')\n",
    "month = ['1월', '2월 ', '3월 ', '4월 ', '5월 ', '6월 ', '7월', '8월', '9월', '10월', '11월', '12월']\n",
    "\n",
    "# 각 시트에서 특정 열만 가져와서 리스트에 저장\n",
    "dfs = []  \n",
    "for sheet in month:\n",
    "  seoul_park = pd.read_excel(seoul_park_xls, sheet_name=sheet, header=4)\n",
    "  seoul_park.drop(0, inplace=True)\n",
    "  df = seoul_park[['날짜', '일합계']]  # 원하는 열만 가져오기\n",
    "  dfs.append(df)\n",
    "\n",
    "# 모든 시트의 특정 열을 세로로 연결\n",
    "merged_df = pd.concat(dfs, ignore_index=True)\n",
    "merged_df\n",
    "# 새로운 엑셀 파일로 저장 (기존 파일 수정하려면 다른 방식 필요)\n",
    "merged_df.to_csv(\"merged_seoul_park_2023.csv\", index=False)\n"
   ]
  },
   "source": [
    "seoul_park_xls = pd.ExcelFile('./서울대공원2024.xlsx')\n",
    "month = ['1월', '2월 ', '3월 ', '4월 ', '5월', '6월', '7월', '8월', '9월', '10월', '11월', '12월']\n",
    "\n",
    "# 각 시트에서 특정 열만 가져와서 리스트에 저장\n",
    "dfs = []  \n",
    "for sheet in month:\n",
    "  seoul_park = pd.read_excel(seoul_park_xls, sheet_name=sheet, header=4)\n",
    "  seoul_park.drop(0, inplace=True)\n",
    "  df = seoul_park[['날짜', '일합계']]  # 원하는 열만 가져오기\n",
    "  dfs.append(df)\n",
    "\n",
    "# 모든 시트의 특정 열을 세로로 연결\n",
    "merged_df = pd.concat(dfs, ignore_index=True)\n",
    "merged_df\n",
    "# 새로운 엑셀 파일로 저장 (기존 파일 수정하려면 다른 방식 필요)\n",
    "merged_df.to_csv(\"merged_seoul_park_2024.csv\", index=False)\n"
   ]
  },
  {
   "cell_type": "code",
   "execution_count": null,
   "metadata": {},
   "outputs": [],
   "source": []
  }
 ],
 "metadata": {
  "kernelspec": {
   "display_name": "Python 3.9.6 64-bit",
   "language": "python",
   "name": "python3"
  },
  "language_info": {
   "codemirror_mode": {
    "name": "ipython",
    "version": 3
   },
   "file_extension": ".py",
   "mimetype": "text/x-python",
   "name": "python",
   "nbconvert_exporter": "python",
   "pygments_lexer": "ipython3",
   "version": "3.9.6"
  },
  "orig_nbformat": 4,
  "vscode": {
   "interpreter": {
    "hash": "a047e08c87d346450cbc9d1e0b6b2078b572b710726afb9a41456a0859ffd4fd"
   }
  }
 },
 "nbformat": 4,
 "nbformat_minor": 2
}
